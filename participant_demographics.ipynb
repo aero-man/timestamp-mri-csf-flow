{
 "cells": [
  {
   "cell_type": "markdown",
   "id": "dcc8193c-d4bb-4cbf-b873-dcc537f5d02a",
   "metadata": {},
   "source": [
    "# TimeSTAMP Participant Age Demographics\n",
    "\n",
    "Demographics about the research participants' age and gender in the TimeSTAMP MRI study.\n",
    "\n",
    "**Authors:**\n",
    "* Andrew Roman, andrew.roman@commonspirit.org, aeroman2@asu.edu\n",
    "* Jakob Perivolotis, jperivol@asu.edu"
   ]
  },
  {
   "cell_type": "code",
   "execution_count": 1,
   "id": "5eb35995-43e9-4088-986c-58c97239d66c",
   "metadata": {},
   "outputs": [],
   "source": [
    "import pandas as pd\n",
    "\n",
    "csf_flow_df = pd.read_csv('../../data/CSF_Flow_TimeSTAMP_measurements.csv')\n",
    "genders_df = pd.read_csv('../../data/subject_genders.csv')"
   ]
  },
  {
   "cell_type": "code",
   "execution_count": 2,
   "id": "ad27a6ae-d368-4109-876a-2c57e1791573",
   "metadata": {},
   "outputs": [
    {
     "data": {
      "text/plain": [
       "count    1200.000000\n",
       "mean       29.038333\n",
       "std         6.858284\n",
       "min        23.000000\n",
       "25%        25.000000\n",
       "50%        25.000000\n",
       "75%        30.000000\n",
       "max        45.000000\n",
       "Name: age, dtype: float64"
      ]
     },
     "execution_count": 2,
     "metadata": {},
     "output_type": "execute_result"
    }
   ],
   "source": [
    "csf_flow_df['age'].describe()"
   ]
  },
  {
   "cell_type": "code",
   "execution_count": 3,
   "id": "58791334-3955-4587-b87e-8bcdb64f439c",
   "metadata": {},
   "outputs": [
    {
     "data": {
      "text/plain": [
       "25.0"
      ]
     },
     "execution_count": 3,
     "metadata": {},
     "output_type": "execute_result"
    }
   ],
   "source": [
    "csf_flow_df['age'].median()"
   ]
  },
  {
   "cell_type": "code",
   "execution_count": 4,
   "id": "721bcb6a-6565-4cc7-967d-fa2417b01776",
   "metadata": {},
   "outputs": [
    {
     "data": {
      "text/plain": [
       "count     17\n",
       "unique     2\n",
       "top        f\n",
       "freq      11\n",
       "Name: gender, dtype: object"
      ]
     },
     "execution_count": 4,
     "metadata": {},
     "output_type": "execute_result"
    }
   ],
   "source": [
    "genders_df['gender'].describe()"
   ]
  },
  {
   "cell_type": "code",
   "execution_count": 5,
   "id": "ea268764-ca6c-4f70-a372-cae9e3012f5b",
   "metadata": {},
   "outputs": [
    {
     "data": {
      "text/plain": [
       "gender\n",
       "f    11\n",
       "m     6\n",
       "Name: count, dtype: int64"
      ]
     },
     "execution_count": 5,
     "metadata": {},
     "output_type": "execute_result"
    }
   ],
   "source": [
    "genders_df['gender'].value_counts()"
   ]
  }
 ],
 "metadata": {
  "kernelspec": {
   "display_name": "Python 3 (ipykernel)",
   "language": "python",
   "name": "python3"
  },
  "language_info": {
   "codemirror_mode": {
    "name": "ipython",
    "version": 3
   },
   "file_extension": ".py",
   "mimetype": "text/x-python",
   "name": "python",
   "nbconvert_exporter": "python",
   "pygments_lexer": "ipython3",
   "version": "3.12.9"
  }
 },
 "nbformat": 4,
 "nbformat_minor": 5
}
